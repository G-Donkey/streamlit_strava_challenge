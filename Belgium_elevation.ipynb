{
 "cells": [
  {
   "cell_type": "code",
   "execution_count": 1,
   "id": "77e20543",
   "metadata": {},
   "outputs": [
    {
     "data": {
      "text/plain": [
       "'2.0.3'"
      ]
     },
     "execution_count": 1,
     "metadata": {},
     "output_type": "execute_result"
    }
   ],
   "source": [
    "import sys\n",
    "\n",
    "import numpy as np\n",
    "import osmnx as ox\n",
    "import pandas as pd\n",
    "\n",
    "ox.__version__"
   ]
  },
  {
   "cell_type": "code",
   "execution_count": 17,
   "id": "a52c2148",
   "metadata": {},
   "outputs": [
    {
     "name": "stdout",
     "output_type": "stream",
     "text": [
      "zsh:1: command not found: gdal_translate\n"
     ]
    }
   ],
   "source": [
    "!gdal_translate \\\n",
    "  -a_srs EPSG:31370 \\\n",
    "  DTM_20m.tif \\\n",
    "  DTM_20m_l72.tif"
   ]
  },
  {
   "cell_type": "code",
   "execution_count": null,
   "id": "b349d644",
   "metadata": {},
   "outputs": [],
   "source": [
    "!gdalwarp \\\n",
    "  -s_srs EPSG:31370 \\\n",
    "  -t_srs EPSG:32631 \\\n",
    "  -r bilinear \\\n",
    "  DTM_20m_l72.tif \\\n",
    "  DTM_20m_utm31.tif"
   ]
  },
  {
   "cell_type": "code",
   "execution_count": 2,
   "id": "04148da5",
   "metadata": {},
   "outputs": [
    {
     "name": "stdout",
     "output_type": "stream",
     "text": [
      "Bbox: 4.640295 50.8242096 4.7705305 50.9440707\n"
     ]
    }
   ],
   "source": [
    "import osmnx as ox\n",
    "\n",
    "# geocode Leuven and get its boundary polygon as a GeoDataFrame\n",
    "gdf = ox.geocode_to_gdf(\"Leuven, Belgium\")  \n",
    "# extract [minx, miny, maxx, maxy] = [west, south, east, north]\n",
    "west, south, east, north = gdf.geometry.total_bounds\n",
    "\n",
    "print(\"Bbox:\", west, south, east, north)"
   ]
  },
  {
   "cell_type": "code",
   "execution_count": 3,
   "id": "1982102d",
   "metadata": {
    "vscode": {
     "languageId": "shellscript"
    }
   },
   "outputs": [
    {
     "name": "stdout",
     "output_type": "stream",
     "text": [
      "[======================================================================] 100% \n"
     ]
    }
   ],
   "source": [
    "!osmium extract \\\n",
    "  --strategy complete_ways \\\n",
    "  --bbox 4.640295,50.8242096,4.7705305,50.9440707 \\\n",
    "  belgium-latest.osm.pbf \\\n",
    "  -o G.osm.pbf"
   ]
  },
  {
   "cell_type": "code",
   "execution_count": 5,
   "id": "24fc27c0",
   "metadata": {},
   "outputs": [],
   "source": [
    "from pyrosm import OSM\n",
    "\n",
    "osm = OSM(\"G.osm.pbf\")\n",
    "gdf_nodes, gdf_edges = osm.get_network(network_type=\"driving\", nodes=True)"
   ]
  },
  {
   "cell_type": "code",
   "execution_count": 9,
   "id": "2fb3d8f4",
   "metadata": {},
   "outputs": [],
   "source": [
    "G = osm.to_graph(\n",
    "    nodes=gdf_nodes,\n",
    "    edges=gdf_edges,\n",
    "    graph_type=\"networkx\",\n",
    "    osmnx_compatible=True\n",
    ")"
   ]
  },
  {
   "cell_type": "code",
   "execution_count": 14,
   "id": "2feb275a",
   "metadata": {},
   "outputs": [],
   "source": [
    "# Add node elevations from raster files (replace with your Belgium DEM files)\n",
    "belgium_raster_path = \"DTM_20m.tif\"\n",
    "try:\n",
    "    G = ox.elevation.add_node_elevations_raster(G, belgium_raster_path, cpus=1)\n",
    "except Exception as e:\n",
    "    print(f\"Could not load Belgium raster file: {e}\")"
   ]
  },
  {
   "cell_type": "code",
   "execution_count": 15,
   "id": "8994a194",
   "metadata": {},
   "outputs": [],
   "source": [
    "# Add edge grades and their absolute values\n",
    "G = ox.elevation.add_edge_grades(G, add_absolute=True)"
   ]
  },
  {
   "cell_type": "code",
   "execution_count": 16,
   "id": "0062ff74",
   "metadata": {},
   "outputs": [
    {
     "name": "stdout",
     "output_type": "stream",
     "text": [
      "No valid 'grade_abs' values found on edges. Cannot plot.\n"
     ]
    }
   ],
   "source": [
    "# Get a color for each edge by grade, then plot the network\n",
    "\n",
    "# Remove edges with missing or invalid 'grade_abs' before plotting\n",
    "import numpy as np\n",
    "\n",
    "edges_with_grade = [\n",
    "    (u, v, k)\n",
    "    for u, v, k, d in G.edges(keys=True, data=True)\n",
    "    if d.get(\"grade_abs\") is not None and not np.isnan(d.get(\"grade_abs\"))\n",
    "]\n",
    "if len(edges_with_grade) == 0:\n",
    "    print(\"No valid 'grade_abs' values found on edges. Cannot plot.\")\n",
    "else:\n",
    "    G_valid = G.edge_subgraph(edges_with_grade).copy()\n",
    "    try:\n",
    "        ec_belgium = ox.plot.get_edge_colors_by_attr(\n",
    "            G_valid, \"grade_abs\", cmap=\"plasma\", num_bins=5, equal_size=True\n",
    "        )\n",
    "    except ValueError as e:\n",
    "        print(f\"Warning: {e}\\nFalling back to equal_size=False.\")\n",
    "        try:\n",
    "            ec_belgium = ox.plot.get_edge_colors_by_attr(\n",
    "                G_valid, \"grade_abs\", cmap=\"plasma\", num_bins=5, equal_size=False\n",
    "            )\n",
    "        except ValueError as e2:\n",
    "            print(f\"Plotting failed: {e2}\")\n",
    "            ec_belgium = None\n",
    "    if ec_belgium is not None:\n",
    "        fig, ax = ox.plot.plot_graph(\n",
    "            G_valid, edge_color=ec_belgium, edge_linewidth=0.5, node_size=0, bgcolor=\"k\"\n",
    "        )"
   ]
  }
 ],
 "metadata": {
  "kernelspec": {
   "display_name": ".venv",
   "language": "python",
   "name": "python3"
  },
  "language_info": {
   "codemirror_mode": {
    "name": "ipython",
    "version": 3
   },
   "file_extension": ".py",
   "mimetype": "text/x-python",
   "name": "python",
   "nbconvert_exporter": "python",
   "pygments_lexer": "ipython3",
   "version": "3.11.4"
  }
 },
 "nbformat": 4,
 "nbformat_minor": 5
}
